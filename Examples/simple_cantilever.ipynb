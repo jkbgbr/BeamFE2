{
 "cells": [
  {
   "cell_type": "code",
   "execution_count": 8,
   "metadata": {
    "collapsed": false
   },
   "outputs": [
    {
     "ename": "ModuleNotFoundError",
     "evalue": "No module named 'BeamFE2'",
     "output_type": "error",
     "traceback": [
      "\u001b[0;31m---------------------------------------------------------------------------\u001b[0m",
      "\u001b[0;31mModuleNotFoundError\u001b[0m                       Traceback (most recent call last)",
      "\u001b[0;32m<ipython-input-8-0bf0b4aca593>\u001b[0m in \u001b[0;36m<module>\u001b[0;34m()\u001b[0m\n\u001b[0;32m----> 1\u001b[0;31m \u001b[1;32mfrom\u001b[0m \u001b[0mBeamFE2\u001b[0m\u001b[1;33m.\u001b[0m\u001b[0mBeamFE2\u001b[0m \u001b[1;32mimport\u001b[0m \u001b[0mHermitianBeam_2D\u001b[0m \u001b[1;32mas\u001b[0m \u001b[0mHB\u001b[0m\u001b[1;33m\u001b[0m\u001b[0m\n\u001b[0m\u001b[1;32m      2\u001b[0m \u001b[1;32mfrom\u001b[0m \u001b[0mBeamFE2\u001b[0m\u001b[1;33m.\u001b[0m\u001b[0mBeamFE2\u001b[0m \u001b[1;32mimport\u001b[0m \u001b[0mBeamSections\u001b[0m \u001b[1;32mas\u001b[0m \u001b[0msections\u001b[0m\u001b[1;33m\u001b[0m\u001b[0m\n\u001b[1;32m      3\u001b[0m \u001b[1;32mfrom\u001b[0m \u001b[0mBeamFE2\u001b[0m\u001b[1;33m.\u001b[0m\u001b[0mBeamFE2\u001b[0m \u001b[1;32mimport\u001b[0m \u001b[0mMaterial\u001b[0m\u001b[1;33m\u001b[0m\u001b[0m\n\u001b[1;32m      4\u001b[0m \u001b[1;32mfrom\u001b[0m \u001b[0mBeamFE2\u001b[0m\u001b[1;33m.\u001b[0m\u001b[0mBeamFE2\u001b[0m \u001b[1;32mimport\u001b[0m \u001b[0mStructure\u001b[0m\u001b[1;33m\u001b[0m\u001b[0m\n\u001b[1;32m      5\u001b[0m \u001b[1;32mfrom\u001b[0m \u001b[0mBeamFE2\u001b[0m\u001b[1;33m.\u001b[0m\u001b[0mBeamFE2\u001b[0m \u001b[1;32mimport\u001b[0m \u001b[0mNode\u001b[0m\u001b[1;33m\u001b[0m\u001b[0m\n",
      "\u001b[0;31mModuleNotFoundError\u001b[0m: No module named 'BeamFE2'"
     ]
    }
   ],
   "source": [
    "from BeamFE2 import HermitianBeam_2D as HB\n",
    "from BeamFE2 import BeamSections as sections\n",
    "from BeamFE2 import Material\n",
    "from BeamFE2 import Structure\n",
    "from BeamFE2 import Node\n",
    "%matplotlib inline"
   ]
  },
  {
   "cell_type": "code",
   "execution_count": null,
   "metadata": {
    "collapsed": true
   },
   "outputs": [],
   "source": [
    "# declaring some constants\n",
    "LENGTH = 400  # length of the cantilever\n",
    "NR_BEAMS = 3  # number of beam FEs"
   ]
  },
  {
   "cell_type": "code",
   "execution_count": null,
   "metadata": {
    "collapsed": true
   },
   "outputs": [],
   "source": [
    "# nodes in a straight line\n",
    "_nodes = [Node.Node.from_dict(adict={'ID': i+1, 'coords': (i*LENGTH/NR_BEAMS, 0)}) for i in range(NR_BEAMS+1)]"
   ]
  },
  {
   "cell_type": "code",
   "execution_count": null,
   "metadata": {
    "collapsed": true
   },
   "outputs": [],
   "source": [
    "# beams\n",
    "# first, a rectangle cross section\n",
    "section_column = sections.Rectangle(height=3, width=10)\n",
    "\n",
    "# material: steel with nominal stiffness, weight\n",
    "mat = Material.Steel()\n",
    "\n",
    "# creating the beams between the nodes\n",
    "_beams = [HB.HermitianBeam2D.from_dict(adict=\n",
    "                                       {'ID': i, \n",
    "                                        'i': _nodes[i], 'j': _nodes[i+1],\n",
    "                                        'E': mat.E, \n",
    "                                        'rho': mat.rho, \n",
    "                                        'I': section_column.I['x'], \n",
    "                                        'A': section_column.A,\n",
    "                                       })\n",
    "          for i in range(NR_BEAMS)]"
   ]
  },
  {
   "cell_type": "code",
   "execution_count": null,
   "metadata": {
    "collapsed": true
   },
   "outputs": [],
   "source": [
    "# supports\n",
    "BCs = {1: ['ux', 'uy', 'rotz']}"
   ]
  },
  {
   "cell_type": "code",
   "execution_count": null,
   "metadata": {
    "collapsed": false
   },
   "outputs": [],
   "source": [
    "# the structures\n",
    "structure = Structure.Structure(beams=_beams, supports=BCs)"
   ]
  },
  {
   "cell_type": "code",
   "execution_count": null,
   "metadata": {
    "collapsed": false
   },
   "outputs": [],
   "source": [
    "# adding the loads - nodal loads\n",
    "# \n",
    "structure.add_nodal_load(nodeID=_nodes[-1].ID, dynam={'FX': -100, 'FY': -200, 'MZ': 0}, clear=True)"
   ]
  },
  {
   "cell_type": "code",
   "execution_count": null,
   "metadata": {
    "collapsed": true
   },
   "outputs": [],
   "source": [
    "# adding the loads - beam internal loads\n",
    "structure.add_internal_loads(beam=structure.beams[0], loadtype='uniform axial force', value=1)\n",
    "structure.add_internal_loads(beam=structure.beams[0], loadtype='concentrated axial force', value=200, position=0.3)\n",
    "structure.add_internal_loads(beam=structure.beams[0], loadtype='concentrated moment', value=-1000000, position=0.5)\n",
    "structure.add_internal_loads(beam=structure.beams[0], loadtype='uniform perpendicular force', value=-10)"
   ]
  },
  {
   "cell_type": "code",
   "execution_count": null,
   "metadata": {
    "collapsed": true
   },
   "outputs": [],
   "source": [
    "# solving it\n",
    "structure.solver['linear static'].solve()"
   ]
  },
  {
   "cell_type": "code",
   "execution_count": null,
   "metadata": {
    "collapsed": false
   },
   "outputs": [],
   "source": [
    "structure.draw(analysistype='linear static')"
   ]
  },
  {
   "cell_type": "code",
   "execution_count": null,
   "metadata": {
    "collapsed": true
   },
   "outputs": [],
   "source": []
  }
 ],
 "metadata": {
  "kernelspec": {
   "display_name": "Python 3",
   "language": "python",
   "name": "python3"
  },
  "language_info": {
   "codemirror_mode": {
    "name": "ipython",
    "version": 3
   },
   "file_extension": ".py",
   "mimetype": "text/x-python",
   "name": "python",
   "nbconvert_exporter": "python",
   "pygments_lexer": "ipython3",
   "version": "3.6.0"
  }
 },
 "nbformat": 4,
 "nbformat_minor": 0
}
