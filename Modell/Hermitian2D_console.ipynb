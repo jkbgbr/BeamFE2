{
 "cells": [
  {
   "cell_type": "code",
   "execution_count": 32,
   "metadata": {
    "collapsed": true
   },
   "outputs": [],
   "source": [
    "import copy\n",
    "import numpy as np\n",
    "import sympy\n",
    "from sympy import symbols, Matrix\n",
    "sympy.init_printing()\n",
    "%matplotlib inline\n",
    "np.set_printoptions(precision=3, suppress=True, linewidth=250)"
   ]
  },
  {
   "cell_type": "code",
   "execution_count": 51,
   "metadata": {
    "collapsed": false
   },
   "outputs": [
    {
     "data": {
      "text/plain": [
       "matrix([[   31500.  ,        0.  ,        0.  ,   -31500.  ,        0.  ,        0.  ],\n",
       "        [       0.  ,       78.75,     7875.  ,        0.  ,      -78.75,     7875.  ],\n",
       "        [       0.  ,     7875.  ,  1050000.  ,        0.  ,    -7875.  ,   525000.  ],\n",
       "        [  -31500.  ,        0.  ,        0.  ,    31500.  ,        0.  ,        0.  ],\n",
       "        [       0.  ,      -78.75,    -7875.  ,        0.  ,       78.75,    -7875.  ],\n",
       "        [       0.  ,     7875.  ,   525000.  ,        0.  ,    -7875.  ,  1050000.  ]])"
      ]
     },
     "execution_count": 51,
     "metadata": {},
     "output_type": "execute_result"
    }
   ],
   "source": [
    "# 1-ELEMENT BEAM CLAMPED AT THE LEFT END. Everything is in a local system.\n",
    "\n",
    "E = 2.1e5  # MPa\n",
    "h = 10  # mm\n",
    "b = 3  # mm\n",
    "A = h * b\n",
    "I = (h ** 3) * b / 12\n",
    "EA = E * A\n",
    "EI = E * I\n",
    "L = 200  # mm\n",
    "\n",
    "def element_stiffness(EA, EI, L):\n",
    "    return np.matrix([\n",
    "            np.array([EA / L, 0, 0, -EA / L, 0, 0]), \n",
    "            np.array([0, 12 * EI / (L ** 3), 6 * EI / (L ** 2), 0, -12 * EI / (L ** 3), 6 * EI / (L ** 2)]),\n",
    "            np.array([0, 6 * EI / (L ** 2), 4 * EI / L, 0, -6 * EI / (L ** 2), 2 * EI / L]),\n",
    "            np.array([-EA / L, 0, 0, EA / L, 0, 0]),\n",
    "            np.array([0, -12 * EI / (L ** 3), -6 * EI / (L ** 2), 0, 12 * EI / (L ** 3), -6 * EI / (L ** 2)]),\n",
    "            np.array([0, 6 * EI / (L ** 2), 2 * EI / L, 0, -6 * EI / (L ** 2), 4 * EI / L]),\n",
    "        ])\n",
    "ke = element_stiffness(EA, EI, L)\n",
    "ke"
   ]
  },
  {
   "cell_type": "code",
   "execution_count": 34,
   "metadata": {
    "collapsed": false
   },
   "outputs": [
    {
     "data": {
      "text/plain": [
       "matrix([[    0],\n",
       "        [    0],\n",
       "        [    0],\n",
       "        [    0],\n",
       "        [-1000],\n",
       "        [    0]])"
      ]
     },
     "execution_count": 34,
     "metadata": {},
     "output_type": "execute_result"
    }
   ],
   "source": [
    "# Load: 1 kN at the free end\n",
    "g = 1000\n",
    "q = np.matrix([[0, 0, 0, 0, -g, 0]]).T\n",
    "# the load vector\n",
    "q"
   ]
  },
  {
   "cell_type": "code",
   "execution_count": 35,
   "metadata": {
    "collapsed": false
   },
   "outputs": [
    {
     "data": {
      "text/plain": [
       "matrix([[  1.000e+20,   0.000e+00,   0.000e+00,  -3.150e+04,   0.000e+00,   0.000e+00],\n",
       "        [  0.000e+00,   1.000e+20,   7.875e+03,   0.000e+00,  -7.875e+01,   7.875e+03],\n",
       "        [  0.000e+00,   7.875e+03,   1.000e+20,   0.000e+00,  -7.875e+03,   5.250e+05],\n",
       "        [ -3.150e+04,   0.000e+00,   0.000e+00,   3.150e+04,   0.000e+00,   0.000e+00],\n",
       "        [  0.000e+00,  -7.875e+01,  -7.875e+03,   0.000e+00,   7.875e+01,  -7.875e+03],\n",
       "        [  0.000e+00,   7.875e+03,   5.250e+05,   0.000e+00,  -7.875e+03,   1.050e+06]])"
      ]
     },
     "execution_count": 35,
     "metadata": {},
     "output_type": "execute_result"
    }
   ],
   "source": [
    "# adding BCs to node i\n",
    "def add_BCs(_K):\n",
    "    _ret = copy.deepcopy(_K)\n",
    "    _ret[:3, :3] += np.matrix([[1e20, 0, 0], [0, 1e20, 0], [0, 0, 1e20]])\n",
    "    return _ret\n",
    "ke_console = add_BCs(_K=ke)\n",
    "# the K matrix\n",
    "ke_console"
   ]
  },
  {
   "cell_type": "code",
   "execution_count": 36,
   "metadata": {
    "collapsed": false
   },
   "outputs": [
    {
     "data": {
      "text/plain": [
       "matrix([[  0.   ],\n",
       "        [ -0.   ],\n",
       "        [ -0.   ],\n",
       "        [  0.   ],\n",
       "        [-50.794],\n",
       "        [ -0.381]])"
      ]
     },
     "execution_count": 36,
     "metadata": {},
     "output_type": "execute_result"
    }
   ],
   "source": [
    "# solving the equation to get the nodal displacements\n",
    "def solver(_K, _q):\n",
    "    _ret = np.linalg.inv(_K) * _q\n",
    "    return _ret\n",
    "v = solver(_K=ke_console, _q=q)\n",
    "v"
   ]
  },
  {
   "cell_type": "code",
   "execution_count": 37,
   "metadata": {
    "collapsed": false
   },
   "outputs": [
    {
     "data": {
      "text/plain": [
       "matrix([[      0.],\n",
       "        [   1000.],\n",
       "        [ 200000.],\n",
       "        [      0.],\n",
       "        [  -1000.],\n",
       "        [     -0.]])"
      ]
     },
     "execution_count": 37,
     "metadata": {},
     "output_type": "execute_result"
    }
   ],
   "source": [
    "# nodal reaction forces\n",
    "def nodal_reactions(_K, _v):\n",
    "    return _K * _v\n",
    "nr = nodal_reactions(_K=ke, _v=v)\n",
    "nr"
   ]
  },
  {
   "cell_type": "code",
   "execution_count": 38,
   "metadata": {
    "collapsed": false
   },
   "outputs": [
    {
     "data": {
      "text/plain": [
       "matrix([[      0.],\n",
       "        [   1000.],\n",
       "        [ 200000.],\n",
       "        [      0.],\n",
       "        [      0.],\n",
       "        [     -0.]])"
      ]
     },
     "execution_count": 38,
     "metadata": {},
     "output_type": "execute_result"
    }
   ],
   "source": [
    "# reaction forces\n",
    "def reactions(_nr, _q):\n",
    "    return _nr - _q\n",
    "r = reactions(_nr=nr, _q=q)\n",
    "r"
   ]
  }
 ],
 "metadata": {
  "kernelspec": {
   "display_name": "Python 3",
   "language": "python",
   "name": "python3"
  },
  "language_info": {
   "codemirror_mode": {
    "name": "ipython",
    "version": 3
   },
   "file_extension": ".py",
   "mimetype": "text/x-python",
   "name": "python",
   "nbconvert_exporter": "python",
   "pygments_lexer": "ipython3",
   "version": "3.6.0"
  }
 },
 "nbformat": 4,
 "nbformat_minor": 0
}
