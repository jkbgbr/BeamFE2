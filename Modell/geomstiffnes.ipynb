{
 "cells": [
  {
   "cell_type": "code",
   "execution_count": 1,
   "metadata": {
    "collapsed": true
   },
   "outputs": [],
   "source": [
    "# http://nbviewer.jupyter.org/github/ricklupton/beamfe/blob/master/theory/FE%20element%20matrices.ipynb\n",
    "import numpy as np\n",
    "import sympy\n",
    "from sympy import symbols, Matrix\n",
    "sympy.init_printing()\n",
    "%matplotlib inline"
   ]
  },
  {
   "cell_type": "code",
   "execution_count": 2,
   "metadata": {
    "collapsed": true
   },
   "outputs": [],
   "source": [
    "xi, l, rho = symbols('xi, l, rho')\n",
    "\n",
    "# Shape functions\n",
    "S = Matrix(np.zeros((4, 12)))\n",
    "x2 = (1 - xi)\n",
    "S[0, 0 ] =  x2                     # extension\n",
    "S[0, 6 ] =  xi\n",
    "S[1, 1 ] =  x2**2 * (3 - 2*x2)     # y-deflection\n",
    "S[1, 7 ] =  xi**2 * (3 - 2*xi)\n",
    "S[1, 5 ] = -x2**2 * (x2 - 1) * l  \n",
    "S[1, 11] =  xi**2 * (xi - 1) * l  \n",
    "S[2, 2 ] =  x2**2 * (3 - 2*x2)     # z-deflection\n",
    "S[2, 8 ] =  xi**2 * (3 - 2*xi)\n",
    "S[2, 4 ] =  x2**2 * (x2 - 1) * l\n",
    "S[2, 10] = -xi**2 * (xi - 1) * l\n",
    "S[3, 3 ] =  x2                     # torsion\n",
    "S[3, 9 ] =  xi"
   ]
  },
  {
   "cell_type": "code",
   "execution_count": 3,
   "metadata": {
    "collapsed": false
   },
   "outputs": [
    {
     "data": {
      "text/latex": [
       "$$\\left[\\begin{matrix}- \\xi + 1 & 0.0 & 0.0\\\\0.0 & \\left(- \\xi + 1\\right)^{2} \\left(2 \\xi + 1\\right) & 0.0\\\\0.0 & 0.0 & \\left(- \\xi + 1\\right)^{2} \\left(2 \\xi + 1\\right)\\\\0.0 & 0.0 & 0.0\\\\0.0 & 0.0 & - l \\xi \\left(- \\xi + 1\\right)^{2}\\\\0.0 & l \\xi \\left(- \\xi + 1\\right)^{2} & 0.0\\\\\\xi & 0.0 & 0.0\\\\0.0 & \\xi^{2} \\left(- 2 \\xi + 3\\right) & 0.0\\\\0.0 & 0.0 & \\xi^{2} \\left(- 2 \\xi + 3\\right)\\\\0.0 & 0.0 & 0.0\\\\0.0 & 0.0 & - l \\xi^{2} \\left(\\xi - 1\\right)\\\\0.0 & l \\xi^{2} \\left(\\xi - 1\\right) & 0.0\\end{matrix}\\right]$$"
      ],
      "text/plain": [
       "⎡-ξ + 1          0.0                  0.0        ⎤\n",
       "⎢                                                ⎥\n",
       "⎢                2                               ⎥\n",
       "⎢ 0.0    (-ξ + 1) ⋅(2⋅ξ + 1)          0.0        ⎥\n",
       "⎢                                                ⎥\n",
       "⎢                                     2          ⎥\n",
       "⎢ 0.0            0.0          (-ξ + 1) ⋅(2⋅ξ + 1)⎥\n",
       "⎢                                                ⎥\n",
       "⎢ 0.0            0.0                  0.0        ⎥\n",
       "⎢                                                ⎥\n",
       "⎢                                            2   ⎥\n",
       "⎢ 0.0            0.0            -l⋅ξ⋅(-ξ + 1)    ⎥\n",
       "⎢                                                ⎥\n",
       "⎢                       2                        ⎥\n",
       "⎢ 0.0       l⋅ξ⋅(-ξ + 1)              0.0        ⎥\n",
       "⎢                                                ⎥\n",
       "⎢  ξ             0.0                  0.0        ⎥\n",
       "⎢                                                ⎥\n",
       "⎢            2                                   ⎥\n",
       "⎢ 0.0       ξ ⋅(-2⋅ξ + 3)             0.0        ⎥\n",
       "⎢                                                ⎥\n",
       "⎢                                 2              ⎥\n",
       "⎢ 0.0            0.0             ξ ⋅(-2⋅ξ + 3)   ⎥\n",
       "⎢                                                ⎥\n",
       "⎢ 0.0            0.0                  0.0        ⎥\n",
       "⎢                                                ⎥\n",
       "⎢                                    2           ⎥\n",
       "⎢ 0.0            0.0             -l⋅ξ ⋅(ξ - 1)   ⎥\n",
       "⎢                                                ⎥\n",
       "⎢              2                                 ⎥\n",
       "⎣ 0.0       l⋅ξ ⋅(ξ - 1)              0.0        ⎦"
      ]
     },
     "execution_count": 3,
     "metadata": {},
     "output_type": "execute_result"
    }
   ],
   "source": [
    "S[:3, :].T"
   ]
  },
  {
   "cell_type": "code",
   "execution_count": 4,
   "metadata": {
    "collapsed": false
   },
   "outputs": [
    {
     "data": {
      "image/png": "[encoded data removed]",
      "text/plain": [
       "ρ₁⋅(-ξ + 1) + ρ₂⋅ξ"
      ]
     },
     "execution_count": 4,
     "metadata": {},
     "output_type": "execute_result"
    }
   ],
   "source": [
    "rho1, rho2 = symbols('rho_1, rho_2')\n",
    "rho = (1 - xi)*rho1 + xi*rho2\n",
    "rho"
   ]
  },
  {
   "cell_type": "code",
   "execution_count": 5,
   "metadata": {
    "collapsed": false
   },
   "outputs": [
    {
     "data": {
      "image/png": "[encoded data removed]",
      "text/plain": [
       "(12, 12)"
      ]
     },
     "execution_count": 5,
     "metadata": {},
     "output_type": "execute_result"
    }
   ],
   "source": [
    "def sym_me():\n",
    "    m = Matrix(np.diag([rho, rho, rho, 0]))\n",
    "    integrand = S.T * m * S\n",
    "    me = integrand.applyfunc(\n",
    "        lambda xxx: l * sympy.integrate(xxx, (xi, 0, 1)).expand().factor()\n",
    "    )\n",
    "    return me\n",
    "me = sym_me()\n",
    "me.shape"
   ]
  },
  {
   "cell_type": "code",
   "execution_count": null,
   "metadata": {
    "collapsed": true
   },
   "outputs": [],
   "source": [
    ""
   ]
  }
 ],
 "metadata": {
  "kernelspec": {
   "display_name": "Python 3",
   "language": "python",
   "name": "python3"
  },
  "language_info": {
   "codemirror_mode": {
    "name": "ipython",
    "version": 3.0
   },
   "file_extension": ".py",
   "mimetype": "text/x-python",
   "name": "python",
   "nbconvert_exporter": "python",
   "pygments_lexer": "ipython3",
   "version": "3.6.0"
  }
 },
 "nbformat": 4,
 "nbformat_minor": 0
}